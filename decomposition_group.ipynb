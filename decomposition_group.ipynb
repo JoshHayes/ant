{
 "cells": [
  {
   "cell_type": "markdown",
   "id": "40839b71-0f54-4354-af5a-9f3166f7851f",
   "metadata": {},
   "source": [
    "# Splitting of prime ideals in Galois extensions"
   ]
  },
  {
   "cell_type": "markdown",
   "id": "863438b2-9d55-4398-889b-d3cc906b7cdd",
   "metadata": {},
   "source": [
    "## The Gaussian integers: $\\mathbb{Q}(i)/\\mathbb{Q}$"
   ]
  },
  {
   "cell_type": "code",
   "execution_count": 1,
   "id": "ded5b34d-9c47-47e3-b488-c265ddfcbe9d",
   "metadata": {
    "vscode": {
     "languageId": "sage"
    }
   },
   "outputs": [
    {
     "name": "stdout",
     "output_type": "stream",
     "text": [
      "Rational Field\n",
      "Integer Ring\n",
      "Number Field in I with defining polynomial x^2 + 1 with I = 1*I\n",
      "Gaussian Integers in Number Field in I with defining polynomial x^2 + 1 with I = 1*I\n",
      "Galois group 2T1 (S2) with order 2 of x^2 + 1\n",
      "discriminant: -1 * 2^2\n"
     ]
    }
   ],
   "source": [
    "from sage.rings.number_field.number_field import GaussianField\n",
    "\n",
    "k = RationalField()\n",
    "K = GaussianField()\n",
    "\n",
    "assert K.is_galois()\n",
    "G = K.galois_group()\n",
    "ok = k.maximal_order()\n",
    "OK = K.maximal_order()\n",
    "\n",
    "print(k)\n",
    "print(ok)\n",
    "print(K)\n",
    "print(OK)\n",
    "print(G)\n",
    "print(f\"discriminant: {factor(K.disc())}\")"
   ]
  },
  {
   "cell_type": "code",
   "execution_count": 2,
   "id": "3db2a4f9-f19c-488f-8bc2-5fdb00c07a1b",
   "metadata": {
    "vscode": {
     "languageId": "sage"
    }
   },
   "outputs": [
    {
     "name": "stdout",
     "output_type": "stream",
     "text": [
      "Fractional ideal (I + 1)\n",
      "Quotient of Gaussian Integers in Number Field in I with defining polynomial x^2 + 1 with I = 1*I by the ideal (I + 1)\n",
      "Decomposition group: \n",
      "C2\n",
      "elements: \n",
      "[(), (1,2)]\n",
      "Inertia group: \n",
      "C2\n"
     ]
    }
   ],
   "source": [
    "# the even prime 2 of Z ramifies in Z[i]\n",
    "p = 2\n",
    "\n",
    "# there is only one prime\n",
    "P = K.primes_above(p)[0] \n",
    "assert P.is_prime()\n",
    "print(P)\n",
    "\n",
    "# residue class field of P\n",
    "Fp = OK.quotient(P, names='a')\n",
    "assert Fp.is_field()\n",
    "print(Fp)\n",
    "\n",
    "Dp = G.decomposition_group(P)\n",
    "print(f\"Decomposition group: \\n{Dp.structure_description()}\")\n",
    "print(f\"elements: \\n{[sigma for sigma in Dp]}\")\n",
    "\n",
    "Ip = G.inertia_group(P)\n",
    "print(f\"Inertia group: \\n{Ip.structure_description()}\")"
   ]
  },
  {
   "cell_type": "code",
   "execution_count": 3,
   "id": "48a03a98-b488-44bd-a4d7-148a19e6c8a7",
   "metadata": {
    "vscode": {
     "languageId": "sage"
    }
   },
   "outputs": [
    {
     "name": "stdout",
     "output_type": "stream",
     "text": [
      "Fractional ideal (-2*I + 3)\n",
      "Quotient of Gaussian Integers in Number Field in I with defining polynomial x^2 + 1 with I = 1*I by the ideal (-2*I + 3)\n",
      "Decomposition group: \n",
      "1\n",
      "Inertia group: \n",
      "1\n",
      "Fractional ideal (2*I + 3)\n",
      "Quotient of Gaussian Integers in Number Field in I with defining polynomial x^2 + 1 with I = 1*I by the ideal (2*I + 3)\n",
      "Decomposition group: \n",
      "1\n",
      "Inertia group: \n",
      "1\n"
     ]
    }
   ],
   "source": [
    "# primes p = 1 (mod 4) split into two distinct primes in Z[i]\n",
    "# we'll look at 13\n",
    "p = 13\n",
    "\n",
    "primes_above_p = K.primes_above(p)\n",
    "\n",
    "for P in primes_above_p:\n",
    "    assert P.is_prime()\n",
    "    print(P)\n",
    "    # residue class field of P\n",
    "    Fp = OK.quotient(P, names='a')\n",
    "    assert Fp.is_field()\n",
    "    print(Fp)\n",
    "    Dp = G.decomposition_group(P)\n",
    "    print(f\"Decomposition group: \\n{Dp.structure_description()}\")\n",
    "    # print(f\"elements: \\n{[sigma for sigma in Dp]}\")\n",
    "    Ip = G.inertia_group(P)\n",
    "    print(f\"Inertia group: \\n{Ip.structure_description()}\")"
   ]
  },
  {
   "cell_type": "code",
   "execution_count": 4,
   "id": "960527f9-f08b-4586-95a6-297ed504b31d",
   "metadata": {
    "vscode": {
     "languageId": "sage"
    }
   },
   "outputs": [
    {
     "name": "stdout",
     "output_type": "stream",
     "text": [
      "Fractional ideal (7)\n",
      "Quotient of Gaussian Integers in Number Field in I with defining polynomial x^2 + 1 with I = 1*I by the ideal (7)\n",
      "Decomposition group: \n",
      "C2\n",
      "Inertia group: \n",
      "1\n"
     ]
    }
   ],
   "source": [
    "# primes p = 3 (mod 4) remain inert in Z[i], i.e. do not split\n",
    "# we'll look at 7\n",
    "p = 7\n",
    "\n",
    "primes_above_p = K.primes_above(p)\n",
    "\n",
    "for P in primes_above_p:\n",
    "    assert P.is_prime()\n",
    "    print(P)\n",
    "    # residue class field of P\n",
    "    Fp = OK.quotient(P, names='a')\n",
    "    assert Fp.is_field()\n",
    "    print(Fp)\n",
    "    Dp = G.decomposition_group(P)\n",
    "    print(f\"Decomposition group: \\n{Dp.structure_description()}\")\n",
    "    Ip = G.inertia_group(P)\n",
    "    print(f\"Inertia group: \\n{Ip.structure_description()}\")"
   ]
  },
  {
   "cell_type": "markdown",
   "id": "03b0704b-18f9-40b2-807d-9a688b2976a1",
   "metadata": {},
   "source": [
    "## A cubic example"
   ]
  },
  {
   "cell_type": "code",
   "execution_count": 5,
   "id": "68eafbfb-3789-4870-abda-554b739feb3e",
   "metadata": {
    "vscode": {
     "languageId": "sage"
    }
   },
   "outputs": [
    {
     "name": "stdout",
     "output_type": "stream",
     "text": [
      "Number Field in a with defining polynomial x^6 - 3*x^5 + 8*x^4 - 11*x^3 + 8*x^2 - 3*x + 1\n"
     ]
    }
   ],
   "source": [
    "k = RationalField()\n",
    "R.<x> = k[]\n",
    "f = x^3 + 2*x - 2\n",
    "\n",
    "K = f.splitting_field(names='a')\n",
    "# convenient to know the PARI/GP polredabs representation\n",
    "from sage.libs.pari.convert_sage import gen_to_sage\n",
    "fabs = gen_to_sage(pari.polredabs(K.polynomial()), {\"x\": x})\n",
    "# finally, we have a Galois extension\n",
    "K = k.extension(fabs, names='a')\n",
    "assert K.is_galois()\n",
    "print(K)"
   ]
  },
  {
   "cell_type": "code",
   "execution_count": 6,
   "id": "5f5a7dd3-ea0a-4599-8af5-83e030f5d9e9",
   "metadata": {
    "vscode": {
     "languageId": "sage"
    }
   },
   "outputs": [
    {
     "name": "stdout",
     "output_type": "stream",
     "text": [
      "Rational Field\n",
      "Number Field in a with defining polynomial x^6 - 3*x^5 + 8*x^4 - 11*x^3 + 8*x^2 - 3*x + 1\n",
      "Integer Ring\n",
      "Maximal Order in Number Field in a with defining polynomial x^6 - 3*x^5 + 8*x^4 - 11*x^3 + 8*x^2 - 3*x + 1\n",
      "Galois group 6T2 ([3]2) with order 6 of x^6 - 3*x^5 + 8*x^4 - 11*x^3 + 8*x^2 - 3*x + 1\n",
      "discriminant: -1 * 2^4 * 5^3 * 7^3\n"
     ]
    }
   ],
   "source": [
    "assert K.is_galois()\n",
    "G = K.galois_group()\n",
    "ok = k.maximal_order()\n",
    "OK = K.maximal_order()\n",
    "\n",
    "print(k)\n",
    "print(K)\n",
    "print(ok)\n",
    "print(OK)\n",
    "print(G)\n",
    "print(f\"discriminant: {factor(K.disc())}\")"
   ]
  },
  {
   "cell_type": "code",
   "execution_count": 7,
   "id": "07d9e097-5046-47cf-88fc-2d75c9ad0b38",
   "metadata": {
    "vscode": {
     "languageId": "sage"
    }
   },
   "outputs": [
    {
     "name": "stdout",
     "output_type": "stream",
     "text": [
      "----------------------------------\n",
      "p = 2 (Ip, Dp)\n",
      "C3, S3  |  Fractional ideal (a^4 - 2*a^3 + 6*a^2 - 5*a + 2)\n",
      "----------------------------------\n",
      "p = 5 (Ip, Dp)\n",
      "C2, C2  |  Fractional ideal (5, a + 1)\n",
      "C2, C2  |  Fractional ideal (5, a + 2)\n",
      "C2, C2  |  Fractional ideal (5, a - 2)\n",
      "----------------------------------\n",
      "p = 7 (Ip, Dp)\n",
      "C2, C2  |  Fractional ideal (7, a + 1)\n",
      "C2, C2  |  Fractional ideal (7, a + 3)\n",
      "C2, C2  |  Fractional ideal (7, a - 2)\n"
     ]
    }
   ],
   "source": [
    "# the primes 2, 5, 7 are ramified\n",
    "ramified = [2, 5, 7]\n",
    "\n",
    "for p in ramified:\n",
    "    print(\"----------------------------------\")\n",
    "    print(f\"p = {p} (Ip, Dp)\")\n",
    "    primes_above_p = K.primes_above(p)\n",
    "    for P in primes_above_p:\n",
    "        assert P.is_prime()\n",
    "        # residue class field of P\n",
    "        Fp = OK.quotient(P, names='a')\n",
    "        assert Fp.is_field()\n",
    "        # print(Fp.quotient(p))\n",
    "        # print(Fp)\n",
    "        Dp = G.decomposition_group(P)\n",
    "        Ip = G.inertia_group(P)\n",
    "        print(f\"{Ip.structure_description()}, {Dp.structure_description()}  |  {P}\")"
   ]
  },
  {
   "cell_type": "code",
   "execution_count": 8,
   "id": "cbf72d3f-7275-49e6-a866-22768e3d0b8f",
   "metadata": {
    "vscode": {
     "languageId": "sage"
    }
   },
   "outputs": [
    {
     "name": "stdout",
     "output_type": "stream",
     "text": [
      "----------------------------------\n",
      "p = 2  (Ip, Dp)\n",
      "C3, S3  |  Fractional ideal (a^4 - 2*a^3 + 6*a^2 - 5*a + 2)\n",
      "----------------------------------\n",
      "p = 3  (Ip, Dp)\n",
      "1, C3  |  Fractional ideal (3, a^3 - 2*a^2 + 5*a - 2)\n",
      "1, C3  |  Fractional ideal (3, a^3 - a^2 + 4*a - 2)\n",
      "----------------------------------\n",
      "p = 5  (Ip, Dp)\n",
      "C2, C2  |  Fractional ideal (5, a + 1)\n",
      "C2, C2  |  Fractional ideal (5, a + 2)\n",
      "C2, C2  |  Fractional ideal (5, a - 2)\n",
      "----------------------------------\n",
      "p = 7  (Ip, Dp)\n",
      "C2, C2  |  Fractional ideal (7, a + 1)\n",
      "C2, C2  |  Fractional ideal (7, a + 3)\n",
      "C2, C2  |  Fractional ideal (7, a - 2)\n",
      "----------------------------------\n",
      "p = 11  (Ip, Dp)\n",
      "1, C3  |  Fractional ideal (2*a^5 - 5*a^4 + 14*a^3 - 16*a^2 + 12*a - 2)\n",
      "1, C3  |  Fractional ideal (2*a^5 - 5*a^4 + 14*a^3 - 16*a^2 + 12*a - 5)\n",
      "----------------------------------\n",
      "p = 13  (Ip, Dp)\n",
      "1, C3  |  Fractional ideal (13, a^3 + 4*a^2 - 7*a + 14)\n",
      "1, C3  |  Fractional ideal (13, a^3 - 7*a^2 + 4*a - 12)\n",
      "----------------------------------\n",
      "p = 17  (Ip, Dp)\n",
      "1, C3  |  Fractional ideal (17, a^3 + 5*a^2 - 8*a + 18)\n",
      "1, C3  |  Fractional ideal (17, a^3 - 8*a^2 + 5*a - 16)\n",
      "----------------------------------\n",
      "p = 19  (Ip, Dp)\n",
      "1, C2  |  Fractional ideal (2*a^5 - 5*a^4 + 14*a^3 - 17*a^2 + 11*a - 3)\n",
      "1, C2  |  Fractional ideal (2*a^5 - 5*a^4 + 14*a^3 - 15*a^2 + 9*a - 2)\n",
      "1, C2  |  Fractional ideal (a^4 - 2*a^3 + 7*a^2 - 6*a + 2)\n",
      "----------------------------------\n",
      "p = 23  (Ip, Dp)\n",
      "1, C2  |  Fractional ideal (-a^5 + 4*a^4 - 10*a^3 + 16*a^2 - 10*a + 3)\n",
      "1, C2  |  Fractional ideal (a^4 - 2*a^3 + 4*a^2 - 3*a - 1)\n",
      "1, C2  |  Fractional ideal (-a^5 + a^4 - 4*a^3 + 3*a - 2)\n",
      "----------------------------------\n",
      "p = 29  (Ip, Dp)\n",
      "1, C3  |  Fractional ideal (2*a^5 - 5*a^4 + 14*a^3 - 16*a^2 + 12*a + 1)\n",
      "1, C3  |  Fractional ideal (2*a^5 - 5*a^4 + 14*a^3 - 16*a^2 + 12*a - 8)\n",
      "----------------------------------\n",
      "p = 31  (Ip, Dp)\n",
      "1, C2  |  Fractional ideal (a^5 - 2*a^4 + 6*a^3 - 5*a^2 + 2*a - 3)\n",
      "1, C2  |  Fractional ideal (a^5 - 3*a^4 + 8*a^3 - 11*a^2 + 7*a + 1)\n",
      "1, C2  |  Fractional ideal (a^4 - 2*a^3 + 6*a^2 - 5*a + 5)\n",
      "----------------------------------\n",
      "p = 37  (Ip, Dp)\n",
      "1, C2  |  Fractional ideal (-2*a^4 + 4*a^3 - 10*a^2 + 9*a - 2)\n",
      "1, C2  |  Fractional ideal (-2*a^4 + 4*a^3 - 10*a^2 + 8*a - 3)\n",
      "1, C2  |  Fractional ideal (-2*a^4 + 4*a^3 - 10*a^2 + 7*a - 1)\n",
      "----------------------------------\n",
      "p = 41  (Ip, Dp)\n",
      "1, C2  |  Fractional ideal (a^5 - a^4 + 2*a^3 + 3*a^2 - 10*a + 3)\n",
      "1, C2  |  Fractional ideal (-a^5 + 4*a^4 - 8*a^3 + 13*a^2 - 3*a - 2)\n",
      "1, C2  |  Fractional ideal (-2*a^4 + 4*a^3 - 10*a^2 + 8*a + 1)\n",
      "----------------------------------\n",
      "p = 43  (Ip, Dp)\n",
      "1, C2  |  Fractional ideal (-2*a^5 + 5*a^4 - 15*a^3 + 17*a^2 - 15*a + 5)\n",
      "1, C2  |  Fractional ideal (-2*a^5 + 5*a^4 - 15*a^3 + 18*a^2 - 16*a + 5)\n",
      "1, C2  |  Fractional ideal (-3*a^4 + 6*a^3 - 17*a^2 + 14*a - 6)\n",
      "----------------------------------\n",
      "p = 47  (Ip, Dp)\n",
      "1, C3  |  Fractional ideal (47, a^3 + 10*a^2 - 13*a + 1)\n",
      "1, C3  |  Fractional ideal (47, a^3 - 13*a^2 + 10*a - 46)\n",
      "----------------------------------\n",
      "p = 53  (Ip, Dp)\n",
      "1, C2  |  Fractional ideal (2*a^5 - 5*a^4 + 14*a^3 - 17*a^2 + 13*a - 3)\n",
      "1, C2  |  Fractional ideal (a^4 - 2*a^3 + 7*a^2 - 6*a)\n",
      "1, C2  |  Fractional ideal (2*a^5 - 5*a^4 + 14*a^3 - 15*a^2 + 11*a - 4)\n",
      "----------------------------------\n",
      "p = 59  (Ip, Dp)\n",
      "1, C2  |  Fractional ideal (a^5 - 4*a^4 + 8*a^3 - 13*a^2 + 4*a + 1)\n",
      "1, C2  |  Fractional ideal (-3*a^4 + 6*a^3 - 16*a^2 + 13*a - 3)\n",
      "1, C2  |  Fractional ideal (a^5 - a^4 + 2*a^3 + 3*a^2 - 9*a + 3)\n"
     ]
    }
   ],
   "source": [
    "# check some more primes\n",
    "list_of_primes = prime_range(60)\n",
    "\n",
    "for p in list_of_primes:\n",
    "    print(\"----------------------------------\")\n",
    "    print(f\"p = {p}  (Ip, Dp)\")\n",
    "    primes_above_p = K.primes_above(p)\n",
    "    for P in primes_above_p:\n",
    "        assert P.is_prime()\n",
    "        # residue class field of P\n",
    "        Fp = OK.quotient(P, names='a')\n",
    "        assert Fp.is_field()\n",
    "        # print(Fp)\n",
    "        Dp = G.decomposition_group(P)\n",
    "        Ip = G.inertia_group(P)\n",
    "        print(f\"{Ip.structure_description()}, {Dp.structure_description()}  |  {P}\")"
   ]
  },
  {
   "cell_type": "code",
   "execution_count": null,
   "id": "54a32312-2826-4e53-a8c8-8bea42c08e03",
   "metadata": {},
   "outputs": [],
   "source": []
  }
 ],
 "metadata": {
  "kernelspec": {
   "display_name": "SageMath 10.2",
   "language": "sage",
   "name": "sagemath-10.2"
  },
  "language_info": {
   "codemirror_mode": {
    "name": "ipython",
    "version": 3
   },
   "file_extension": ".py",
   "mimetype": "text/x-python",
   "name": "python",
   "nbconvert_exporter": "python",
   "pygments_lexer": "ipython3",
   "version": "3.11.1"
  }
 },
 "nbformat": 4,
 "nbformat_minor": 5
}
