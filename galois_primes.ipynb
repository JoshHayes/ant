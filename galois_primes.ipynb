{
 "cells": [
  {
   "cell_type": "markdown",
   "id": "40839b71-0f54-4354-af5a-9f3166f7851f",
   "metadata": {},
   "source": [
    "# Prime ideals in Galois extensions\n",
    "\n",
    "We study a Galois extension $K$ over $k$ and how primes in the ring of integers $\\mathcal{O}_k$ factorise as products of primes in $\\mathcal{O}_K$."
   ]
  },
  {
   "cell_type": "markdown",
   "id": "863438b2-9d55-4398-889b-d3cc906b7cdd",
   "metadata": {},
   "source": [
    "## The Gaussian integers: $\\mathbb{Q}(i)/\\mathbb{Q}$"
   ]
  },
  {
   "cell_type": "code",
   "execution_count": 1,
   "id": "ded5b34d-9c47-47e3-b488-c265ddfcbe9d",
   "metadata": {},
   "outputs": [
    {
     "name": "stdout",
     "output_type": "stream",
     "text": [
      "k = Rational Field with ring of integers Z = Integer Ring\n",
      "K = Number Field in I with defining polynomial x^2 + 1 with I = 1*I with ring of integers O_K = Gaussian Integers in Number Field in I with defining polynomial x^2 + 1 with I = 1*I\n",
      "K.disc = -1 * 2^2\n",
      "Galois group 2T1 (S2) with order 2 of x^2 + 1\n"
     ]
    }
   ],
   "source": [
    "from sage.rings.number_field.number_field import GaussianField\n",
    "\n",
    "Q = RationalField()\n",
    "Z = Q.maximal_order()\n",
    "\n",
    "K = GaussianField()\n",
    "OK = K.maximal_order()\n",
    "\n",
    "G = K.galois_group()\n",
    "assert K.is_galois()\n",
    "\n",
    "print(f\"k = {Q} with ring of integers Z = {Z}\")\n",
    "print(f\"K = {K} with ring of integers O_K = {OK}\")\n",
    "print(f\"K.disc = {factor(K.disc())}\")\n",
    "print(G)"
   ]
  },
  {
   "cell_type": "code",
   "execution_count": 2,
   "id": "3db2a4f9-f19c-488f-8bc2-5fdb00c07a1b",
   "metadata": {},
   "outputs": [
    {
     "name": "stdout",
     "output_type": "stream",
     "text": [
      "p = 2, (e,f,g) = [(2, 1, 1)]\n",
      "There is one ideal lying above (2), P = Fractional ideal (I + 1)\n",
      "Dp = C2 with elements: [(), (1,2)]\n",
      "Ip = C2\n"
     ]
    }
   ],
   "source": [
    "# The even prime 2 divides the discriminant, whence 2 ramifies in $\\mathcal{O}_K = \\mathbb{Z}[i]$ with index $e = 2$.\n",
    "# The inertia and decomposition groups are both the Gal gp\n",
    "p = 2\n",
    "print(f\"p = {p}, (e,f,g) = {K.decomposition_type(p)}\")\n",
    "\n",
    "P = K.primes_above(p)[0]\n",
    "assert P.is_prime()\n",
    "print(f\"There is one ideal lying above ({p}), P = {P}\")\n",
    "\n",
    "Dp = G.decomposition_group(P)\n",
    "Ip = G.inertia_group(P)\n",
    "print(f\"Dp = {Dp.structure_description()} with elements: {[sigma for sigma in Dp]}\")\n",
    "print(f\"Ip = {Ip.structure_description()}\")"
   ]
  },
  {
   "cell_type": "code",
   "execution_count": 3,
   "id": "48a03a98-b488-44bd-a4d7-148a19e6c8a7",
   "metadata": {},
   "outputs": [
    {
     "name": "stdout",
     "output_type": "stream",
     "text": [
      "p = 13, (e,f,g) = [(1, 1, 2)]\n",
      "Fractional ideal (-2*I + 3)\n",
      "Dp = 1\n",
      "Ip = 1\n",
      "Fractional ideal (2*I + 3)\n",
      "Dp = 1\n",
      "Ip = 1\n"
     ]
    }
   ],
   "source": [
    "# primes p = 1 (mod 4) split into two distinct primes in Z[i], trivial decomposition group\n",
    "# we'll look at 13\n",
    "# (3 - 2i)(3 + 2i) = 9 - 4i^2 = 9 + 4\n",
    "# (2 + 3i)(2 - 3i) = 4 - 9i^2 = 4 + 9\n",
    "p = 13\n",
    "print(f\"p = {p}, (e,f,g) = {K.decomposition_type(p)}\")\n",
    "\n",
    "primes_above_p = K.primes_above(p)\n",
    "\n",
    "for P in primes_above_p:\n",
    "    assert P.is_prime()\n",
    "    print(P)\n",
    "    Dp = G.decomposition_group(P)\n",
    "    Ip = G.inertia_group(P)\n",
    "    print(f\"Dp = {Dp.structure_description()}\")\n",
    "    print(f\"Ip = {Ip.structure_description()}\")"
   ]
  },
  {
   "cell_type": "code",
   "execution_count": 4,
   "id": "960527f9-f08b-4586-95a6-297ed504b31d",
   "metadata": {},
   "outputs": [
    {
     "name": "stdout",
     "output_type": "stream",
     "text": [
      "p = 7, (e,f,g) = [(1, 2, 1)]\n",
      "Fractional ideal (7)\n",
      "Dp = C2\n",
      "Ip = 1\n"
     ]
    }
   ],
   "source": [
    "# primes p = 3 (mod 4) remain inert in Z[i], i.e. do not split\n",
    "# the decomposition group is the whole Galois group\n",
    "# the inertia group is trivial\n",
    "# we'll look at 7\n",
    "p = 7\n",
    "print(f\"p = {p}, (e,f,g) = {K.decomposition_type(p)}\")\n",
    "\n",
    "primes_above_p = K.primes_above(p)\n",
    "\n",
    "for P in primes_above_p:\n",
    "    assert P.is_prime()\n",
    "    print(P)\n",
    "    Dp = G.decomposition_group(P)\n",
    "    Ip = G.inertia_group(P)\n",
    "    print(f\"Dp = {Dp.structure_description()}\")\n",
    "    print(f\"Ip = {Ip.structure_description()}\")"
   ]
  },
  {
   "cell_type": "markdown",
   "id": "f68e60ac-fbbd-45cd-9c7c-fb0d65401e9e",
   "metadata": {},
   "source": [
    "## Helper functions\n",
    "\n",
    "The code below cleans up some line noise"
   ]
  },
  {
   "cell_type": "code",
   "execution_count": 5,
   "id": "ca37b09e-f162-4afb-aa2b-3bda1dcdc632",
   "metadata": {},
   "outputs": [],
   "source": [
    "def show_prime_splitting(K, OK, G, primes):\n",
    "    print(r\"There is a short exact sequence:\")\n",
    "    print(r\"1 -> I𝔭 -> D𝔭 -> Gal(F𝔭/Fp) -> 1\")\n",
    "    for p in primes:\n",
    "        print(\"--------------------------------\")\n",
    "        print(f\"p = {p}, (e,f,g) = {K.decomposition_type(p)}\")\n",
    "        primes_above_p = K.primes_above(p)\n",
    "        for P in primes_above_p:\n",
    "            assert P.is_prime()\n",
    "            # Fp = OK.quotient(P, names=\"a\")  # residue class field of P\n",
    "            # assert Fp.is_field()\n",
    "            # print(Fp)\n",
    "            # print(Fp.quotient(p))\n",
    "            Dp = G.decomposition_group(P)\n",
    "            Ip = G.inertia_group(P)\n",
    "            Ip_des = Ip.structure_description()\n",
    "            Dp_des = Dp.structure_description()\n",
    "            print(f\"{P}\")\n",
    "            print(f\"1 -> {Ip_des} -> {Dp_des} -> Gal(F𝔭/Fp) -> 1\")"
   ]
  },
  {
   "cell_type": "markdown",
   "id": "03b0704b-18f9-40b2-807d-9a688b2976a1",
   "metadata": {},
   "source": [
    "## A cubic example: $f = x^3 + 2x - 2$\n",
    "\n",
    "The number field defined by $f$ is not Galois over $\\mathbb{Q}$, so we consider the splitting field which is Galois. "
   ]
  },
  {
   "cell_type": "code",
   "execution_count": 6,
   "id": "68eafbfb-3789-4870-abda-554b739feb3e",
   "metadata": {},
   "outputs": [
    {
     "name": "stdout",
     "output_type": "stream",
     "text": [
      "k = Rational Field with ring of integers O_k = Integer Ring\n",
      "K = Number Field in a with defining polynomial x^6 - 3*x^5 + 8*x^4 - 11*x^3 + 8*x^2 - 3*x + 1 with ring of integers O_K = Maximal Order in Number Field in a with defining polynomial x^6 - 3*x^5 + 8*x^4 - 11*x^3 + 8*x^2 - 3*x + 1\n",
      "K.disc = -1 * 2^4 * 5^3 * 7^3\n",
      "Galois group 6T2 ([3]2) with order 6 of x^6 - 3*x^5 + 8*x^4 - 11*x^3 + 8*x^2 - 3*x + 1\n"
     ]
    }
   ],
   "source": [
    "k = RationalField()\n",
    "R.<x> = k[]\n",
    "f = x^3 + 2*x - 2\n",
    "\n",
    "K = f.splitting_field(names='a')\n",
    "# convenient to know the PARI/GP polredabs representation\n",
    "from sage.libs.pari.convert_sage import gen_to_sage\n",
    "fabs = gen_to_sage(pari.polredabs(K.polynomial()), {\"x\": x})\n",
    "# finally, we have a Galois extension\n",
    "K = k.extension(fabs, names='a')\n",
    "assert K.is_galois()\n",
    "G = K.galois_group()\n",
    "ok = k.maximal_order()\n",
    "OK = K.maximal_order()\n",
    "\n",
    "print(f\"k = {k} with ring of integers O_k = {ok}\")\n",
    "print(f\"K = {K} with ring of integers O_K = {OK}\")\n",
    "print(f\"K.disc = {factor(K.disc())}\")\n",
    "print(G)"
   ]
  },
  {
   "cell_type": "code",
   "execution_count": 7,
   "id": "07d9e097-5046-47cf-88fc-2d75c9ad0b38",
   "metadata": {},
   "outputs": [
    {
     "name": "stdout",
     "output_type": "stream",
     "text": [
      "There is a short exact sequence:\n",
      "1 -> I𝔭 -> D𝔭 -> Gal(F𝔭/Fp) -> 1\n",
      "--------------------------------\n",
      "p = 2, (e,f,g) = [(3, 2, 1)]\n",
      "Fractional ideal (a^4 - 2*a^3 + 6*a^2 - 5*a + 2)\n",
      "1 -> C3 -> S3 -> Gal(F𝔭/Fp) -> 1\n",
      "--------------------------------\n",
      "p = 5, (e,f,g) = [(2, 1, 3)]\n",
      "Fractional ideal (5, a + 1)\n",
      "1 -> C2 -> C2 -> Gal(F𝔭/Fp) -> 1\n",
      "Fractional ideal (5, a + 2)\n",
      "1 -> C2 -> C2 -> Gal(F𝔭/Fp) -> 1\n",
      "Fractional ideal (5, a - 2)\n",
      "1 -> C2 -> C2 -> Gal(F𝔭/Fp) -> 1\n",
      "--------------------------------\n",
      "p = 7, (e,f,g) = [(2, 1, 3)]\n",
      "Fractional ideal (7, a + 1)\n",
      "1 -> C2 -> C2 -> Gal(F𝔭/Fp) -> 1\n",
      "Fractional ideal (7, a + 3)\n",
      "1 -> C2 -> C2 -> Gal(F𝔭/Fp) -> 1\n",
      "Fractional ideal (7, a - 2)\n",
      "1 -> C2 -> C2 -> Gal(F𝔭/Fp) -> 1\n"
     ]
    }
   ],
   "source": [
    "# the primes 2, 5, 7 are ramified\n",
    "ramified = [2, 5, 7]\n",
    "show_prime_splitting(K, OK, G, ramified)"
   ]
  },
  {
   "cell_type": "code",
   "execution_count": 8,
   "id": "cbf72d3f-7275-49e6-a866-22768e3d0b8f",
   "metadata": {},
   "outputs": [
    {
     "name": "stdout",
     "output_type": "stream",
     "text": [
      "There is a short exact sequence:\n",
      "1 -> I𝔭 -> D𝔭 -> Gal(F𝔭/Fp) -> 1\n",
      "--------------------------------\n",
      "p = 2, (e,f,g) = [(3, 2, 1)]\n",
      "Fractional ideal (a^4 - 2*a^3 + 6*a^2 - 5*a + 2)\n",
      "1 -> C3 -> S3 -> Gal(F𝔭/Fp) -> 1\n",
      "--------------------------------\n",
      "p = 3, (e,f,g) = [(1, 3, 2)]\n",
      "Fractional ideal (3, a^3 - 2*a^2 + 5*a - 2)\n",
      "1 -> 1 -> C3 -> Gal(F𝔭/Fp) -> 1\n",
      "Fractional ideal (3, a^3 - a^2 + 4*a - 2)\n",
      "1 -> 1 -> C3 -> Gal(F𝔭/Fp) -> 1\n",
      "--------------------------------\n",
      "p = 5, (e,f,g) = [(2, 1, 3)]\n",
      "Fractional ideal (5, a + 1)\n",
      "1 -> C2 -> C2 -> Gal(F𝔭/Fp) -> 1\n",
      "Fractional ideal (5, a + 2)\n",
      "1 -> C2 -> C2 -> Gal(F𝔭/Fp) -> 1\n",
      "Fractional ideal (5, a - 2)\n",
      "1 -> C2 -> C2 -> Gal(F𝔭/Fp) -> 1\n",
      "--------------------------------\n",
      "p = 7, (e,f,g) = [(2, 1, 3)]\n",
      "Fractional ideal (7, a + 1)\n",
      "1 -> C2 -> C2 -> Gal(F𝔭/Fp) -> 1\n",
      "Fractional ideal (7, a + 3)\n",
      "1 -> C2 -> C2 -> Gal(F𝔭/Fp) -> 1\n",
      "Fractional ideal (7, a - 2)\n",
      "1 -> C2 -> C2 -> Gal(F𝔭/Fp) -> 1\n",
      "--------------------------------\n",
      "p = 11, (e,f,g) = [(1, 3, 2)]\n",
      "Fractional ideal (2*a^5 - 5*a^4 + 14*a^3 - 16*a^2 + 12*a - 2)\n",
      "1 -> 1 -> C3 -> Gal(F𝔭/Fp) -> 1\n",
      "Fractional ideal (2*a^5 - 5*a^4 + 14*a^3 - 16*a^2 + 12*a - 5)\n",
      "1 -> 1 -> C3 -> Gal(F𝔭/Fp) -> 1\n",
      "--------------------------------\n",
      "p = 13, (e,f,g) = [(1, 3, 2)]\n",
      "Fractional ideal (13, a^3 + 4*a^2 - 7*a + 14)\n",
      "1 -> 1 -> C3 -> Gal(F𝔭/Fp) -> 1\n",
      "Fractional ideal (13, a^3 - 7*a^2 + 4*a - 12)\n",
      "1 -> 1 -> C3 -> Gal(F𝔭/Fp) -> 1\n",
      "--------------------------------\n",
      "p = 17, (e,f,g) = [(1, 3, 2)]\n",
      "Fractional ideal (17, a^3 + 5*a^2 - 8*a + 18)\n",
      "1 -> 1 -> C3 -> Gal(F𝔭/Fp) -> 1\n",
      "Fractional ideal (17, a^3 - 8*a^2 + 5*a - 16)\n",
      "1 -> 1 -> C3 -> Gal(F𝔭/Fp) -> 1\n",
      "--------------------------------\n",
      "p = 19, (e,f,g) = [(1, 2, 3)]\n",
      "Fractional ideal (2*a^5 - 5*a^4 + 14*a^3 - 17*a^2 + 11*a - 3)\n",
      "1 -> 1 -> C2 -> Gal(F𝔭/Fp) -> 1\n",
      "Fractional ideal (2*a^5 - 5*a^4 + 14*a^3 - 15*a^2 + 9*a - 2)\n",
      "1 -> 1 -> C2 -> Gal(F𝔭/Fp) -> 1\n",
      "Fractional ideal (a^4 - 2*a^3 + 7*a^2 - 6*a + 2)\n",
      "1 -> 1 -> C2 -> Gal(F𝔭/Fp) -> 1\n",
      "--------------------------------\n",
      "p = 23, (e,f,g) = [(1, 2, 3)]\n",
      "Fractional ideal (-a^5 + 4*a^4 - 10*a^3 + 16*a^2 - 10*a + 3)\n",
      "1 -> 1 -> C2 -> Gal(F𝔭/Fp) -> 1\n",
      "Fractional ideal (a^4 - 2*a^3 + 4*a^2 - 3*a - 1)\n",
      "1 -> 1 -> C2 -> Gal(F𝔭/Fp) -> 1\n",
      "Fractional ideal (-a^5 + a^4 - 4*a^3 + 3*a - 2)\n",
      "1 -> 1 -> C2 -> Gal(F𝔭/Fp) -> 1\n",
      "--------------------------------\n",
      "p = 29, (e,f,g) = [(1, 3, 2)]\n",
      "Fractional ideal (2*a^5 - 5*a^4 + 14*a^3 - 16*a^2 + 12*a + 1)\n",
      "1 -> 1 -> C3 -> Gal(F𝔭/Fp) -> 1\n",
      "Fractional ideal (2*a^5 - 5*a^4 + 14*a^3 - 16*a^2 + 12*a - 8)\n",
      "1 -> 1 -> C3 -> Gal(F𝔭/Fp) -> 1\n"
     ]
    }
   ],
   "source": [
    "# check some other primes\n",
    "list_of_primes = prime_range(30)\n",
    "show_prime_splitting(K, OK, G, list_of_primes)"
   ]
  }
 ],
 "metadata": {
  "kernelspec": {
   "display_name": "SageMath 10.2",
   "language": "sage",
   "name": "SageMath-10.2"
  },
  "language_info": {
   "codemirror_mode": {
    "name": "ipython",
    "version": 3
   },
   "file_extension": ".py",
   "mimetype": "text/x-python",
   "name": "python",
   "nbconvert_exporter": "python",
   "pygments_lexer": "ipython3",
   "version": "3.11.1"
  }
 },
 "nbformat": 4,
 "nbformat_minor": 5
}
